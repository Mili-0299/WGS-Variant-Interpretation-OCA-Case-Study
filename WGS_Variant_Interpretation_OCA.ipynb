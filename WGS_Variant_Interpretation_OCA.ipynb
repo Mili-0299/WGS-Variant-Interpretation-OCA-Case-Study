{
  "nbformat": 4,
  "nbformat_minor": 0,
  "metadata": {
    "colab": {
      "provenance": [],
      "authorship_tag": "ABX9TyOtyfcyDMyhPK7L/toEAkmn"
    },
    "kernelspec": {
      "name": "python3",
      "display_name": "Python 3"
    },
    "language_info": {
      "name": "python"
    }
  },
  "cells": [
    {
      "cell_type": "code",
      "execution_count": 5,
      "metadata": {
        "colab": {
          "base_uri": "https://localhost:8080/"
        },
        "id": "25bTZq5nhe6h",
        "outputId": "d0639dc0-395d-48b5-e17a-4c1a0cc34d14"
      },
      "outputs": [
        {
          "output_type": "stream",
          "name": "stdout",
          "text": [
            "267966 TYR_variants.txt\n",
            "15048\tsingle nucleotide variant\tNM_000410.4(HFE):c.845G>A (p.Cys282Tyr)\t3077\tHFE\tHGNC:4886\tConflicting classifications of pathogenicity; other; risk factor\t1\tMay 01, 2025\t1800562\t-\tRCV000000019|RCV000178096|RCV000210820|RCV000308358|RCV000414811|RCV001248830|RCV002280089|RCV001270034|RCV001731264|RCV002512585|RCV003224084|RCV003493406|RCV005621842\tMONDO:MONDO:0021001,MedGen:C3469186,OMIM:235200,Orphanet:139498,Orphanet:465508|MedGen:C3661900|MONDO:MONDO:0015356,MeSH:D009386,MedGen:C0027672,Orphanet:140162|MONDO:MONDO:0006507,MedGen:C0392514,OMIM:PS235200|Human Phenotype Ontology:HP:0010473,MedGen:C0151861;Human Phenotype Ontology:HP:0000992,Human Phenotype Ontology:HP:0005594,Human Phenotype Ontology:HP:0006831,Human Phenotype Ontology:HP:0007538,MONDO:MONDO:0005434,MedGen:C0349506|MedGen:C0018995||7 conditions|Human Phenotype Ontology:HP:0001638,MONDO:MONDO:0004994,MedGen:C0878544,Orphanet:167848|MeSH:D030342,MedGen:C0950123|6 conditions|MONDO:MONDO:0019257,MedGen:C0268060,Orphanet:79230|Human Phenotype Ontology:HP:0100634,MONDO:MONDO:0019496,MedGen:C0206754,Orphanet:877\tHemochromatosis type 1|not provided|Hereditary cancer-predisposing syndrome|Hereditary hemochromatosis|Porphyrinuria;Cutaneous photosensitivity|Bronze diabetes|HFE-related disorder|7 conditions|Cardiomyopathy|Inborn genetic diseases|6 conditions|Juvenile hemochromatosis|Neuroendocrine neoplasm\tbiparental;germline;unknown\tgermline\tGRCh37\tNC_000006.11\t6\t26093141\t26093141\tna\tna\t6p22.2\tcriteria provided, conflicting classifications\t54\tACMG2021,ACMG2022\tY\tUniProtKB:Q30201#VAR_004398,OMIM:613609.0001,ClinGen:CA113795\t3\t9\t26093141\tG\tA\t-\t-\t-\t-\t-\t-\tSCV000151394|SCV000206975|SCV000219175|SCV000221190|SCV000223934|SCV000230091|SCV000267038|SCV000329362|SCV000461887|SCV000839959|SCV000883106|SCV001137062|SCV001194044|SCV001246053|SCV001251531|SCV001448752|SCV001519562|SCV001523198|SCV001905583|SCV001984982|SCV002028313|SCV002044430|SCV002061285|SCV002502491|SCV002525758|SCV002550674|SCV002568182|SCV002576300|SCV002580992|SCV003702847|SCV003799234|SCV003920032|SCV003925227|SCV004177020|SCV004803175|SCV004812520|SCV005086593|SCV005198438|SCV005382109|SCV005382430|SCV005415942|SCV005440717|SCV005669471|SCV006303009\t-\t-\n",
            "15048\tsingle nucleotide variant\tNM_000410.4(HFE):c.845G>A (p.Cys282Tyr)\t3077\tHFE\tHGNC:4886\tConflicting classifications of pathogenicity; other; risk factor\t1\tMay 01, 2025\t1800562\t-\tRCV000000019|RCV000178096|RCV000210820|RCV000308358|RCV000414811|RCV001248830|RCV002280089|RCV001270034|RCV001731264|RCV002512585|RCV003224084|RCV003493406|RCV005621842\tMONDO:MONDO:0021001,MedGen:C3469186,OMIM:235200,Orphanet:139498,Orphanet:465508|MedGen:C3661900|MONDO:MONDO:0015356,MeSH:D009386,MedGen:C0027672,Orphanet:140162|MONDO:MONDO:0006507,MedGen:C0392514,OMIM:PS235200|Human Phenotype Ontology:HP:0010473,MedGen:C0151861;Human Phenotype Ontology:HP:0000992,Human Phenotype Ontology:HP:0005594,Human Phenotype Ontology:HP:0006831,Human Phenotype Ontology:HP:0007538,MONDO:MONDO:0005434,MedGen:C0349506|MedGen:C0018995||7 conditions|Human Phenotype Ontology:HP:0001638,MONDO:MONDO:0004994,MedGen:C0878544,Orphanet:167848|MeSH:D030342,MedGen:C0950123|6 conditions|MONDO:MONDO:0019257,MedGen:C0268060,Orphanet:79230|Human Phenotype Ontology:HP:0100634,MONDO:MONDO:0019496,MedGen:C0206754,Orphanet:877\tHemochromatosis type 1|not provided|Hereditary cancer-predisposing syndrome|Hereditary hemochromatosis|Porphyrinuria;Cutaneous photosensitivity|Bronze diabetes|HFE-related disorder|7 conditions|Cardiomyopathy|Inborn genetic diseases|6 conditions|Juvenile hemochromatosis|Neuroendocrine neoplasm\tbiparental;germline;unknown\tgermline\tGRCh38\tNC_000006.12\t6\t26092913\t26092913\tna\tna\t6p22.2\tcriteria provided, conflicting classifications\t54\tACMG2021,ACMG2022\tY\tUniProtKB:Q30201#VAR_004398,OMIM:613609.0001,ClinGen:CA113795\t3\t9\t26092913\tG\tA\t-\t-\t-\t-\t-\t-\tSCV000151394|SCV000206975|SCV000219175|SCV000221190|SCV000223934|SCV000230091|SCV000267038|SCV000329362|SCV000461887|SCV000839959|SCV000883106|SCV001137062|SCV001194044|SCV001246053|SCV001251531|SCV001448752|SCV001519562|SCV001523198|SCV001905583|SCV001984982|SCV002028313|SCV002044430|SCV002061285|SCV002502491|SCV002525758|SCV002550674|SCV002568182|SCV002576300|SCV002580992|SCV003702847|SCV003799234|SCV003920032|SCV003925227|SCV004177020|SCV004803175|SCV004812520|SCV005086593|SCV005198438|SCV005382109|SCV005382430|SCV005415942|SCV005440717|SCV005669471|SCV006303009\t-\t-\n",
            "15110\tsingle nucleotide variant\tNM_000374.5(UROD):c.932A>G (p.Tyr311Cys)\t7389\tUROD\tHGNC:12591\tConflicting classifications of pathogenicity\t1\tMar 29, 2021\t121918061\t-\tRCV000000089|RCV000626082|RCV001851502\tMONDO:MONDO:0019799,MedGen:C0162569,Orphanet:95159|MONDO:MONDO:0008295,MedGen:C1867968,OMIM:176090,Orphanet:101330,Orphanet:443057|MedGen:C3661900\tHepatoerythropoietic porphyria|Sporadic porphyria cutanea tarda|not provided\tgermline;unknown\tgermline\tGRCh37\tNC_000001.10\t1\t45480668\t45480668\tna\tna\t1p34.1\tcriteria provided, conflicting classifications\t3\t-\tN\tClinGen:CA251375,UniProtKB:P06132#VAR_009107,OMIM:613521.0007\t3\t71\t45480668\tA\tG\t-\t-\t-\t-\t-\t-\tSCV000746706|SCV002169014\t-\t-\n",
            "15110\tsingle nucleotide variant\tNM_000374.5(UROD):c.932A>G (p.Tyr311Cys)\t7389\tUROD\tHGNC:12591\tConflicting classifications of pathogenicity\t1\tMar 29, 2021\t121918061\t-\tRCV000000089|RCV000626082|RCV001851502\tMONDO:MONDO:0019799,MedGen:C0162569,Orphanet:95159|MONDO:MONDO:0008295,MedGen:C1867968,OMIM:176090,Orphanet:101330,Orphanet:443057|MedGen:C3661900\tHepatoerythropoietic porphyria|Sporadic porphyria cutanea tarda|not provided\tgermline;unknown\tgermline\tGRCh38\tNC_000001.11\t1\t45014996\t45014996\tna\tna\t1p34.1\tcriteria provided, conflicting classifications\t3\t-\tN\tClinGen:CA251375,UniProtKB:P06132#VAR_009107,OMIM:613521.0007\t3\t71\t45014996\tA\tG\t-\t-\t-\t-\t-\t-\tSCV000746706|SCV002169014\t-\t-\n",
            "15121\tsingle nucleotide variant\tNM_000235.4(LIPA):c.129C>G (p.Tyr43Ter)\t3988\tLIPA\tHGNC:6617\tPathogenic\t1\tJul 29, 2019\t121965087\t-\tRCV000000102\tMONDO:MONDO:0019148,MedGen:C0043208,OMIM:620151,Orphanet:75233\tWolman disease\tgermline\tgermline\tGRCh37\tNC_000010.10\t10\t91005533\t91005533\tna\tna\t10q23.31\tcriteria provided, single submitter\t2\t-\tN\tClinGen:CA113835,OMIM:613497.0006\t3\t82\t91005533\tG\tC\t-\t-\t-\t-\t-\t-\tSCV001406566\t-\t-\n",
            "15121\tsingle nucleotide variant\tNM_000235.4(LIPA):c.129C>G (p.Tyr43Ter)\t3988\tLIPA\tHGNC:6617\tPathogenic\t1\tJul 29, 2019\t121965087\t-\tRCV000000102\tMONDO:MONDO:0019148,MedGen:C0043208,OMIM:620151,Orphanet:75233\tWolman disease\tgermline\tgermline\tGRCh38\tNC_000010.11\t10\t89245776\t89245776\tna\tna\t10q23.31\tcriteria provided, single submitter\t2\t-\tN\tClinGen:CA113835,OMIM:613497.0006\t3\t82\t89245776\tG\tC\t-\t-\t-\t-\t-\t-\tSCV001406566\t-\t-\n",
            "15132\tsingle nucleotide variant\tNM_177924.5(ASAH1):c.107A>G (p.Tyr36Cys)\t427\tASAH1\tHGNC:735\tPathogenic/Likely pathogenic\t1\tOct 21, 2024\t137853595\t-\tRCV000000113|RCV005364862\tMONDO:MONDO:0009218,MedGen:C0268255,OMIM:228000,Orphanet:333|MedGen:C3661900\tFarber lipogranulomatosis|not provided\tgermline\tgermline\tGRCh37\tNC_000008.10\t8\t17933068\t17933068\tna\tna\t8p22\tcriteria provided, multiple submitters, no conflicts\t3\t-\tN\tClinGen:CA113842,OMIM:613468.0003\t3\t93\t17933068\tT\tC\t-\t-\t-\t-\t-\t-\tSCV000787438|SCV005921352\t-\t-\n",
            "15132\tsingle nucleotide variant\tNM_177924.5(ASAH1):c.107A>G (p.Tyr36Cys)\t427\tASAH1\tHGNC:735\tPathogenic/Likely pathogenic\t1\tOct 21, 2024\t137853595\t-\tRCV000000113|RCV005364862\tMONDO:MONDO:0009218,MedGen:C0268255,OMIM:228000,Orphanet:333|MedGen:C3661900\tFarber lipogranulomatosis|not provided\tgermline\tgermline\tGRCh38\tNC_000008.11\t8\t18075559\t18075559\tna\tna\t8p22\tcriteria provided, multiple submitters, no conflicts\t3\t-\tN\tClinGen:CA113842,OMIM:613468.0003\t3\t93\t18075559\tT\tC\t-\t-\t-\t-\t-\t-\tSCV000787438|SCV005921352\t-\t-\n",
            "15189\tsingle nucleotide variant\tNM_000274.4(OAT):c.163T>C (p.Tyr55His)\t4942\tOAT\tHGNC:8091\tPathogenic\t1\tFeb 15, 1992\t121965037\t-\tRCV000000173\tMONDO:MONDO:0009796,MedGen:C0018425,OMIM:258870,Orphanet:414\tOrnithine aminotransferase deficiency\tgermline\tgermline\tGRCh37\tNC_000010.10\t10\t126100578\t126100578\tna\tna\t10q26.13\tno assertion criteria provided\t1\t-\tN\tClinGen:CA113924,UniProtKB:P04181#VAR_000566,OMIM:613349.0005\t1\t150\t126100578\tA\tG\t-\t-\t-\t-\t-\t-\tSCV000020316\t-\t-\n",
            "15189\tsingle nucleotide variant\tNM_000274.4(OAT):c.163T>C (p.Tyr55His)\t4942\tOAT\tHGNC:8091\tPathogenic\t1\tFeb 15, 1992\t121965037\t-\tRCV000000173\tMONDO:MONDO:0009796,MedGen:C0018425,OMIM:258870,Orphanet:414\tOrnithine aminotransferase deficiency\tgermline\tgermline\tGRCh38\tNC_000010.11\t10\t124412009\t124412009\tna\tna\t10q26.13\tno assertion criteria provided\t1\t-\tN\tClinGen:CA113924,UniProtKB:P04181#VAR_000566,OMIM:613349.0005\t1\t150\t124412009\tA\tG\t-\t-\t-\t-\t-\t-\tSCV000020316\t-\t-\n",
            "Total variants in TYR gene: 267966\n",
            "['Conflicting classifications of pathogenicity; other; risk factor'\n",
            " 'Conflicting classifications of pathogenicity' 'Pathogenic'\n",
            " 'Pathogenic/Likely pathogenic'\n",
            " 'Conflicting classifications of pathogenicity; risk factor'\n",
            " 'Likely pathogenic' 'Uncertain significance' 'Benign' 'risk factor'\n",
            " 'no classification for the single variant' 'drug response'\n",
            " 'Conflicting classifications of pathogenicity; other'\n",
            " 'Benign/Likely benign' 'association' 'Pathogenic; other'\n",
            " 'Benign/Likely benign; other' 'Affects' 'Likely benign; other'\n",
            " 'Uncertain significance; drug response' 'Pathogenic; drug response'\n",
            " 'other' 'Likely benign' 'Uncertain significance; other'\n",
            " 'no classifications from unflagged records' 'Pathogenic; risk factor'\n",
            " 'Likely pathogenic; drug response' 'not provided' 'Likely risk allele'\n",
            " 'Likely pathogenic/Likely risk allele' '-'\n",
            " 'Uncertain significance/Uncertain risk allele' 'Benign; association'\n",
            " 'Likely benign; association' 'Pathogenic; association'\n",
            " 'confers sensitivity']\n",
            "Pathogenic variants count: 26425\n"
          ]
        },
        {
          "output_type": "stream",
          "name": "stderr",
          "text": [
            "/tmp/ipython-input-2176346063.py:37: SettingWithCopyWarning: \n",
            "A value is trying to be set on a copy of a slice from a DataFrame.\n",
            "Try using .loc[row_indexer,col_indexer] = value instead\n",
            "\n",
            "See the caveats in the documentation: https://pandas.pydata.org/pandas-docs/stable/user_guide/indexing.html#returning-a-view-versus-a-copy\n",
            "  pathogenic_variants['Summary'] = pathogenic_variants.apply(variant_summary, axis=1)\n"
          ]
        }
      ],
      "source": [
        "# Download full ClinVar variant summary file\n",
        "!wget -q ftp://ftp.ncbi.nlm.nih.gov/pub/clinvar/tab_delimited/variant_summary.txt.gz\n",
        "\n",
        "# Unzip the file\n",
        "!gunzip -f variant_summary.txt.gz\n",
        "\n",
        "# Filter for variants in TYR gene (case insensitive)\n",
        "!grep -i 'TYR' variant_summary.txt > TYR_variants.txt\n",
        "\n",
        "# Check the size and first few lines of filtered file\n",
        "!wc -l TYR_variants.txt\n",
        "!head TYR_variants.txt\n",
        "import pandas as pd\n",
        "\n",
        "# Load header from original variant summary file to assign correct columns\n",
        "header = pd.read_csv('variant_summary.txt', sep='\\t', nrows=0).columns.tolist()\n",
        "\n",
        "# Load TYR filtered variants with correct headers\n",
        "tyr_variants = pd.read_csv('TYR_variants.txt', sep='\\t', names=header)\n",
        "\n",
        "# Display basic info\n",
        "print(f\"Total variants in TYR gene: {tyr_variants.shape[0]}\")\n",
        "tyr_variants.head()\n",
        "# Check unique clinical significances\n",
        "print(tyr_variants['ClinicalSignificance'].unique())\n",
        "\n",
        "# Filter pathogenic or likely pathogenic variants\n",
        "pathogenic_variants = tyr_variants[\n",
        "    tyr_variants['ClinicalSignificance'].str.contains('Pathogenic', na=False)\n",
        "]\n",
        "\n",
        "print(f\"Pathogenic variants count: {pathogenic_variants.shape[0]}\")\n",
        "pathogenic_variants[['Name', 'ClinicalSignificance', 'PhenotypeList']].head()\n",
        "def variant_summary(row):\n",
        "    return f\"Variant {row['Name']} is classified as {row['ClinicalSignificance']} associated with {row['PhenotypeList']}.\"\n",
        "\n",
        "pathogenic_variants['Summary'] = pathogenic_variants.apply(variant_summary, axis=1)\n",
        "pathogenic_variants[['Name', 'Summary']].head(10)\n",
        "pathogenic_variants.to_csv('TYR_pathogenic_variants_summary.csv', index=False)\n"
      ]
    }
  ]
}